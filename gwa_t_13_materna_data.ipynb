{
  "nbformat": 4,
  "nbformat_minor": 0,
  "metadata": {
    "colab": {
      "name": "gwa-t-13-materna_data.ipynb",
      "provenance": []
    },
    "kernelspec": {
      "name": "python3",
      "display_name": "Python 3"
    }
  },
  "cells": [
    {
      "cell_type": "code",
      "metadata": {
        "id": "CHd1B43ZTDTp",
        "outputId": "afc12911-9208-448f-a847-4d9375274b95",
        "colab": {
          "base_uri": "https://localhost:8080/",
          "height": 34
        }
      },
      "source": [
        "from google.colab import drive\n",
        "drive.mount('/content/drive')"
      ],
      "execution_count": null,
      "outputs": [
        {
          "output_type": "stream",
          "text": [
            "Drive already mounted at /content/drive; to attempt to forcibly remount, call drive.mount(\"/content/drive\", force_remount=True).\n"
          ],
          "name": "stdout"
        }
      ]
    },
    {
      "cell_type": "code",
      "metadata": {
        "id": "JWjY9urOOxsj"
      },
      "source": [
        "!unzip -q '/content/drive/My Drive/Datasets/GWA-T-13_Materna-Workload-Traces.zip'"
      ],
      "execution_count": null,
      "outputs": []
    },
    {
      "cell_type": "code",
      "metadata": {
        "id": "YAioABkFHsZe"
      },
      "source": [
        "import matplotlib.pyplot as plt\n",
        "import pandas as pd\n",
        "import glob\n",
        "from sklearn.preprocessing import StandardScaler\n",
        "from sklearn.cluster import KMeans\n",
        "from numpy import unique\n",
        "from numpy import where\n",
        "import seaborn as sns\n",
        "import numpy as np\n",
        "from scipy.cluster.hierarchy import dendrogram, linkage  \n",
        "from scipy.spatial.distance import  pdist\n",
        "from sklearn.preprocessing import MinMaxScaler\n",
        "from sklearn.decomposition import PCA\n"
      ],
      "execution_count": null,
      "outputs": []
    },
    {
      "cell_type": "markdown",
      "metadata": {
        "id": "I4bcbfjXsHMz"
      },
      "source": [
        "# Read single csv file"
      ]
    },
    {
      "cell_type": "code",
      "metadata": {
        "id": "892Pbrs5XfwR",
        "outputId": "d78d7b25-8b0b-4aea-d580-1ee5e6e7e217",
        "colab": {
          "base_uri": "https://localhost:8080/",
          "height": 340
        }
      },
      "source": [
        "input_file = pd.read_csv('/content/GWA-T-13_Materna-Workload-Traces/Materna-Trace-1/01.csv', delimiter=';')\n",
        "input_file.head()"
      ],
      "execution_count": null,
      "outputs": [
        {
          "output_type": "execute_result",
          "data": {
            "text/html": [
              "<div>\n",
              "<style scoped>\n",
              "    .dataframe tbody tr th:only-of-type {\n",
              "        vertical-align: middle;\n",
              "    }\n",
              "\n",
              "    .dataframe tbody tr th {\n",
              "        vertical-align: top;\n",
              "    }\n",
              "\n",
              "    .dataframe thead th {\n",
              "        text-align: right;\n",
              "    }\n",
              "</style>\n",
              "<table border=\"1\" class=\"dataframe\">\n",
              "  <thead>\n",
              "    <tr style=\"text-align: right;\">\n",
              "      <th></th>\n",
              "      <th>Timestamp</th>\n",
              "      <th>CPU cores</th>\n",
              "      <th>CPU capacity provisioned [MHZ]</th>\n",
              "      <th>CPU usage [MHZ]</th>\n",
              "      <th>CPU usage [%]</th>\n",
              "      <th>Memory capacity provisioned [KB]</th>\n",
              "      <th>Memory usage [KB]</th>\n",
              "      <th>Memory usage [%]</th>\n",
              "      <th>Disk read throughput [KB/s]</th>\n",
              "      <th>Disk write throughput [KB/s]</th>\n",
              "      <th>Disk size [GB]</th>\n",
              "      <th>Network received throughput [KB/s]</th>\n",
              "      <th>Network transmitted throughput [KB/s]</th>\n",
              "    </tr>\n",
              "  </thead>\n",
              "  <tbody>\n",
              "    <tr>\n",
              "      <th>0</th>\n",
              "      <td>05.11.2015 00:00:00</td>\n",
              "      <td>2</td>\n",
              "      <td>0</td>\n",
              "      <td>156</td>\n",
              "      <td>3,4</td>\n",
              "      <td>4194304</td>\n",
              "      <td>1050673</td>\n",
              "      <td>25,05</td>\n",
              "      <td>0</td>\n",
              "      <td>14</td>\n",
              "      <td>54</td>\n",
              "      <td>12</td>\n",
              "      <td>45</td>\n",
              "    </tr>\n",
              "    <tr>\n",
              "      <th>1</th>\n",
              "      <td>05.11.2015 00:05:00</td>\n",
              "      <td>2</td>\n",
              "      <td>0</td>\n",
              "      <td>150</td>\n",
              "      <td>3,27</td>\n",
              "      <td>4194304</td>\n",
              "      <td>1095552</td>\n",
              "      <td>26,12</td>\n",
              "      <td>0</td>\n",
              "      <td>17</td>\n",
              "      <td>54</td>\n",
              "      <td>2</td>\n",
              "      <td>13</td>\n",
              "    </tr>\n",
              "    <tr>\n",
              "      <th>2</th>\n",
              "      <td>05.11.2015 00:10:00</td>\n",
              "      <td>2</td>\n",
              "      <td>0</td>\n",
              "      <td>158</td>\n",
              "      <td>3,46</td>\n",
              "      <td>4194304</td>\n",
              "      <td>1025507</td>\n",
              "      <td>24,45</td>\n",
              "      <td>0</td>\n",
              "      <td>15</td>\n",
              "      <td>54</td>\n",
              "      <td>12</td>\n",
              "      <td>45</td>\n",
              "    </tr>\n",
              "    <tr>\n",
              "      <th>3</th>\n",
              "      <td>05.11.2015 00:15:00</td>\n",
              "      <td>2</td>\n",
              "      <td>0</td>\n",
              "      <td>156</td>\n",
              "      <td>3,4</td>\n",
              "      <td>4194304</td>\n",
              "      <td>992372</td>\n",
              "      <td>23,66</td>\n",
              "      <td>0</td>\n",
              "      <td>16</td>\n",
              "      <td>54</td>\n",
              "      <td>3</td>\n",
              "      <td>12</td>\n",
              "    </tr>\n",
              "    <tr>\n",
              "      <th>4</th>\n",
              "      <td>05.11.2015 00:20:00</td>\n",
              "      <td>2</td>\n",
              "      <td>0</td>\n",
              "      <td>159</td>\n",
              "      <td>3,47</td>\n",
              "      <td>4194304</td>\n",
              "      <td>1129107</td>\n",
              "      <td>26,92</td>\n",
              "      <td>0</td>\n",
              "      <td>15</td>\n",
              "      <td>54</td>\n",
              "      <td>13</td>\n",
              "      <td>46</td>\n",
              "    </tr>\n",
              "  </tbody>\n",
              "</table>\n",
              "</div>"
            ],
            "text/plain": [
              "             Timestamp  ...  Network transmitted throughput [KB/s]\n",
              "0  05.11.2015 00:00:00  ...                                     45\n",
              "1  05.11.2015 00:05:00  ...                                     13\n",
              "2  05.11.2015 00:10:00  ...                                     45\n",
              "3  05.11.2015 00:15:00  ...                                     12\n",
              "4  05.11.2015 00:20:00  ...                                     46\n",
              "\n",
              "[5 rows x 13 columns]"
            ]
          },
          "metadata": {
            "tags": []
          },
          "execution_count": 4
        }
      ]
    },
    {
      "cell_type": "code",
      "metadata": {
        "id": "oygoMTLfL7Wa",
        "outputId": "e66b7981-66d1-4a2b-a91d-608c3299cddb",
        "colab": {
          "base_uri": "https://localhost:8080/",
          "height": 34
        }
      },
      "source": [
        "input_file.shape"
      ],
      "execution_count": null,
      "outputs": [
        {
          "output_type": "execute_result",
          "data": {
            "text/plain": [
              "(8352, 13)"
            ]
          },
          "metadata": {
            "tags": []
          },
          "execution_count": 5
        }
      ]
    },
    {
      "cell_type": "markdown",
      "metadata": {
        "id": "dVKdekIgsPkF"
      },
      "source": [
        "# Read all data(3 trace data)"
      ]
    },
    {
      "cell_type": "code",
      "metadata": {
        "id": "6GtJQ6MWa3mu",
        "outputId": "ede488a8-9b97-4077-dfb4-fc6dfb240bb3",
        "colab": {
          "base_uri": "https://localhost:8080/",
          "height": 340
        }
      },
      "source": [
        "Materna_Traces = ['/content/GWA-T-13_Materna-Workload-Traces/Materna-Trace-1', \n",
        "        '/content/GWA-T-13_Materna-Workload-Traces/Materna-Trace-2',\n",
        "        '/content/GWA-T-13_Materna-Workload-Traces/Materna-Trace-3']\n",
        "for Materna_Trace in Materna_Traces:\n",
        "\n",
        "  all_files = glob.glob(Materna_Trace + \"/*.csv\")\n",
        "\n",
        "  data = []\n",
        "\n",
        "  for filename in all_files:\n",
        "      df = pd.read_csv(filename, delimiter=';', index_col=None, header=0)\n",
        "      data.append(df)\n",
        "\n",
        "  dataframe = pd.concat(data, axis=0, ignore_index=True)\n",
        "\n",
        "dataframe.head()"
      ],
      "execution_count": null,
      "outputs": [
        {
          "output_type": "execute_result",
          "data": {
            "text/html": [
              "<div>\n",
              "<style scoped>\n",
              "    .dataframe tbody tr th:only-of-type {\n",
              "        vertical-align: middle;\n",
              "    }\n",
              "\n",
              "    .dataframe tbody tr th {\n",
              "        vertical-align: top;\n",
              "    }\n",
              "\n",
              "    .dataframe thead th {\n",
              "        text-align: right;\n",
              "    }\n",
              "</style>\n",
              "<table border=\"1\" class=\"dataframe\">\n",
              "  <thead>\n",
              "    <tr style=\"text-align: right;\">\n",
              "      <th></th>\n",
              "      <th>Timestamp</th>\n",
              "      <th>CPU cores</th>\n",
              "      <th>CPU capacity provisioned [MHZ]</th>\n",
              "      <th>CPU usage [MHZ]</th>\n",
              "      <th>CPU usage [%]</th>\n",
              "      <th>Memory capacity provisioned [KB]</th>\n",
              "      <th>Memory usage [KB]</th>\n",
              "      <th>Memory usage [%]</th>\n",
              "      <th>Disk read throughput [KB/s]</th>\n",
              "      <th>Disk write throughput [KB/s]</th>\n",
              "      <th>Disk size [GB]</th>\n",
              "      <th>Network received throughput [KB/s]</th>\n",
              "      <th>Network transmitted throughput [KB/s]</th>\n",
              "    </tr>\n",
              "  </thead>\n",
              "  <tbody>\n",
              "    <tr>\n",
              "      <th>0</th>\n",
              "      <td>04.01.2016 00:00:00</td>\n",
              "      <td>2</td>\n",
              "      <td>0</td>\n",
              "      <td>903</td>\n",
              "      <td>18,84</td>\n",
              "      <td>8388608</td>\n",
              "      <td>1056126</td>\n",
              "      <td>12,59</td>\n",
              "      <td>0</td>\n",
              "      <td>510</td>\n",
              "      <td>208</td>\n",
              "      <td>253</td>\n",
              "      <td>670</td>\n",
              "    </tr>\n",
              "    <tr>\n",
              "      <th>1</th>\n",
              "      <td>04.01.2016 00:05:00</td>\n",
              "      <td>2</td>\n",
              "      <td>0</td>\n",
              "      <td>915</td>\n",
              "      <td>19,09</td>\n",
              "      <td>8388608</td>\n",
              "      <td>921908</td>\n",
              "      <td>10,99</td>\n",
              "      <td>0</td>\n",
              "      <td>514</td>\n",
              "      <td>208</td>\n",
              "      <td>261</td>\n",
              "      <td>673</td>\n",
              "    </tr>\n",
              "    <tr>\n",
              "      <th>2</th>\n",
              "      <td>04.01.2016 00:10:00</td>\n",
              "      <td>2</td>\n",
              "      <td>0</td>\n",
              "      <td>917</td>\n",
              "      <td>19,13</td>\n",
              "      <td>8388608</td>\n",
              "      <td>1005794</td>\n",
              "      <td>11,99</td>\n",
              "      <td>88</td>\n",
              "      <td>511</td>\n",
              "      <td>208</td>\n",
              "      <td>257</td>\n",
              "      <td>666</td>\n",
              "    </tr>\n",
              "    <tr>\n",
              "      <th>3</th>\n",
              "      <td>04.01.2016 00:15:00</td>\n",
              "      <td>2</td>\n",
              "      <td>0</td>\n",
              "      <td>914</td>\n",
              "      <td>19,05</td>\n",
              "      <td>8388608</td>\n",
              "      <td>1061159</td>\n",
              "      <td>12,65</td>\n",
              "      <td>0</td>\n",
              "      <td>508</td>\n",
              "      <td>208</td>\n",
              "      <td>255</td>\n",
              "      <td>672</td>\n",
              "    </tr>\n",
              "    <tr>\n",
              "      <th>4</th>\n",
              "      <td>04.01.2016 00:20:00</td>\n",
              "      <td>2</td>\n",
              "      <td>0</td>\n",
              "      <td>931</td>\n",
              "      <td>19,41</td>\n",
              "      <td>8388608</td>\n",
              "      <td>1077936</td>\n",
              "      <td>12,85</td>\n",
              "      <td>0</td>\n",
              "      <td>554</td>\n",
              "      <td>208</td>\n",
              "      <td>464</td>\n",
              "      <td>1300</td>\n",
              "    </tr>\n",
              "  </tbody>\n",
              "</table>\n",
              "</div>"
            ],
            "text/plain": [
              "             Timestamp  ...  Network transmitted throughput [KB/s]\n",
              "0  04.01.2016 00:00:00  ...                                    670\n",
              "1  04.01.2016 00:05:00  ...                                    673\n",
              "2  04.01.2016 00:10:00  ...                                    666\n",
              "3  04.01.2016 00:15:00  ...                                    672\n",
              "4  04.01.2016 00:20:00  ...                                   1300\n",
              "\n",
              "[5 rows x 13 columns]"
            ]
          },
          "metadata": {
            "tags": []
          },
          "execution_count": 7
        }
      ]
    },
    {
      "cell_type": "code",
      "metadata": {
        "id": "gS-7t9hNe9Uk",
        "outputId": "a8661a23-946b-44fe-ca3c-19cfb71bb8a0",
        "colab": {
          "base_uri": "https://localhost:8080/",
          "height": 34
        }
      },
      "source": [
        "dataframe.shape"
      ],
      "execution_count": null,
      "outputs": [
        {
          "output_type": "execute_result",
          "data": {
            "text/plain": [
              "(5329730, 13)"
            ]
          },
          "metadata": {
            "tags": []
          },
          "execution_count": 8
        }
      ]
    },
    {
      "cell_type": "code",
      "metadata": {
        "id": "6S8OD_Nhfr2g"
      },
      "source": [
        "# dataframe = dataframe.drop('Timestamp', axis=1)"
      ],
      "execution_count": null,
      "outputs": []
    },
    {
      "cell_type": "markdown",
      "metadata": {
        "id": "i7x-gJD3sciw"
      },
      "source": [
        "# Preprocessing of data"
      ]
    },
    {
      "cell_type": "code",
      "metadata": {
        "id": "_SsiIpIerC0_",
        "outputId": "70e836d7-d429-48eb-f3e4-5b0e4436d88d",
        "colab": {
          "base_uri": "https://localhost:8080/",
          "height": 640
        }
      },
      "source": [
        "dataframe = dataframe.replace(to_replace=r',', value='.', regex=True)\n",
        "dataframe"
      ],
      "execution_count": null,
      "outputs": [
        {
          "output_type": "execute_result",
          "data": {
            "text/html": [
              "<div>\n",
              "<style scoped>\n",
              "    .dataframe tbody tr th:only-of-type {\n",
              "        vertical-align: middle;\n",
              "    }\n",
              "\n",
              "    .dataframe tbody tr th {\n",
              "        vertical-align: top;\n",
              "    }\n",
              "\n",
              "    .dataframe thead th {\n",
              "        text-align: right;\n",
              "    }\n",
              "</style>\n",
              "<table border=\"1\" class=\"dataframe\">\n",
              "  <thead>\n",
              "    <tr style=\"text-align: right;\">\n",
              "      <th></th>\n",
              "      <th>Timestamp</th>\n",
              "      <th>CPU cores</th>\n",
              "      <th>CPU capacity provisioned [MHZ]</th>\n",
              "      <th>CPU usage [MHZ]</th>\n",
              "      <th>CPU usage [%]</th>\n",
              "      <th>Memory capacity provisioned [KB]</th>\n",
              "      <th>Memory usage [KB]</th>\n",
              "      <th>Memory usage [%]</th>\n",
              "      <th>Disk read throughput [KB/s]</th>\n",
              "      <th>Disk write throughput [KB/s]</th>\n",
              "      <th>Disk size [GB]</th>\n",
              "      <th>Network received throughput [KB/s]</th>\n",
              "      <th>Network transmitted throughput [KB/s]</th>\n",
              "    </tr>\n",
              "  </thead>\n",
              "  <tbody>\n",
              "    <tr>\n",
              "      <th>0</th>\n",
              "      <td>04.01.2016 00:00:00</td>\n",
              "      <td>2</td>\n",
              "      <td>0</td>\n",
              "      <td>903</td>\n",
              "      <td>18.84</td>\n",
              "      <td>8388608</td>\n",
              "      <td>1056126</td>\n",
              "      <td>12.59</td>\n",
              "      <td>0</td>\n",
              "      <td>510</td>\n",
              "      <td>208</td>\n",
              "      <td>253</td>\n",
              "      <td>670</td>\n",
              "    </tr>\n",
              "    <tr>\n",
              "      <th>1</th>\n",
              "      <td>04.01.2016 00:05:00</td>\n",
              "      <td>2</td>\n",
              "      <td>0</td>\n",
              "      <td>915</td>\n",
              "      <td>19.09</td>\n",
              "      <td>8388608</td>\n",
              "      <td>921908</td>\n",
              "      <td>10.99</td>\n",
              "      <td>0</td>\n",
              "      <td>514</td>\n",
              "      <td>208</td>\n",
              "      <td>261</td>\n",
              "      <td>673</td>\n",
              "    </tr>\n",
              "    <tr>\n",
              "      <th>2</th>\n",
              "      <td>04.01.2016 00:10:00</td>\n",
              "      <td>2</td>\n",
              "      <td>0</td>\n",
              "      <td>917</td>\n",
              "      <td>19.13</td>\n",
              "      <td>8388608</td>\n",
              "      <td>1005794</td>\n",
              "      <td>11.99</td>\n",
              "      <td>88</td>\n",
              "      <td>511</td>\n",
              "      <td>208</td>\n",
              "      <td>257</td>\n",
              "      <td>666</td>\n",
              "    </tr>\n",
              "    <tr>\n",
              "      <th>3</th>\n",
              "      <td>04.01.2016 00:15:00</td>\n",
              "      <td>2</td>\n",
              "      <td>0</td>\n",
              "      <td>914</td>\n",
              "      <td>19.05</td>\n",
              "      <td>8388608</td>\n",
              "      <td>1061159</td>\n",
              "      <td>12.65</td>\n",
              "      <td>0</td>\n",
              "      <td>508</td>\n",
              "      <td>208</td>\n",
              "      <td>255</td>\n",
              "      <td>672</td>\n",
              "    </tr>\n",
              "    <tr>\n",
              "      <th>4</th>\n",
              "      <td>04.01.2016 00:20:00</td>\n",
              "      <td>2</td>\n",
              "      <td>0</td>\n",
              "      <td>931</td>\n",
              "      <td>19.41</td>\n",
              "      <td>8388608</td>\n",
              "      <td>1077936</td>\n",
              "      <td>12.85</td>\n",
              "      <td>0</td>\n",
              "      <td>554</td>\n",
              "      <td>208</td>\n",
              "      <td>464</td>\n",
              "      <td>1300</td>\n",
              "    </tr>\n",
              "    <tr>\n",
              "      <th>...</th>\n",
              "      <td>...</td>\n",
              "      <td>...</td>\n",
              "      <td>...</td>\n",
              "      <td>...</td>\n",
              "      <td>...</td>\n",
              "      <td>...</td>\n",
              "      <td>...</td>\n",
              "      <td>...</td>\n",
              "      <td>...</td>\n",
              "      <td>...</td>\n",
              "      <td>...</td>\n",
              "      <td>...</td>\n",
              "      <td>...</td>\n",
              "    </tr>\n",
              "    <tr>\n",
              "      <th>5329725</th>\n",
              "      <td>08.02.2016 23:35:00</td>\n",
              "      <td>2</td>\n",
              "      <td>0</td>\n",
              "      <td>42</td>\n",
              "      <td>0.91</td>\n",
              "      <td>8388608</td>\n",
              "      <td>351483</td>\n",
              "      <td>4.19</td>\n",
              "      <td>0</td>\n",
              "      <td>23</td>\n",
              "      <td>158</td>\n",
              "      <td>2</td>\n",
              "      <td>3</td>\n",
              "    </tr>\n",
              "    <tr>\n",
              "      <th>5329726</th>\n",
              "      <td>08.02.2016 23:40:00</td>\n",
              "      <td>2</td>\n",
              "      <td>0</td>\n",
              "      <td>40</td>\n",
              "      <td>0.88</td>\n",
              "      <td>8388608</td>\n",
              "      <td>217265</td>\n",
              "      <td>2.59</td>\n",
              "      <td>0</td>\n",
              "      <td>22</td>\n",
              "      <td>158</td>\n",
              "      <td>1</td>\n",
              "      <td>1</td>\n",
              "    </tr>\n",
              "    <tr>\n",
              "      <th>5329727</th>\n",
              "      <td>08.02.2016 23:45:00</td>\n",
              "      <td>2</td>\n",
              "      <td>0</td>\n",
              "      <td>40</td>\n",
              "      <td>0.87</td>\n",
              "      <td>8388608</td>\n",
              "      <td>133379</td>\n",
              "      <td>1.59</td>\n",
              "      <td>0</td>\n",
              "      <td>22</td>\n",
              "      <td>158</td>\n",
              "      <td>1</td>\n",
              "      <td>1</td>\n",
              "    </tr>\n",
              "    <tr>\n",
              "      <th>5329728</th>\n",
              "      <td>08.02.2016 23:50:00</td>\n",
              "      <td>2</td>\n",
              "      <td>0</td>\n",
              "      <td>40</td>\n",
              "      <td>0.89</td>\n",
              "      <td>8388608</td>\n",
              "      <td>166933</td>\n",
              "      <td>1.99</td>\n",
              "      <td>0</td>\n",
              "      <td>22</td>\n",
              "      <td>158</td>\n",
              "      <td>3</td>\n",
              "      <td>3</td>\n",
              "    </tr>\n",
              "    <tr>\n",
              "      <th>5329729</th>\n",
              "      <td>08.02.2016 23:55:00</td>\n",
              "      <td>2</td>\n",
              "      <td>0</td>\n",
              "      <td>40</td>\n",
              "      <td>0.89</td>\n",
              "      <td>8388608</td>\n",
              "      <td>217265</td>\n",
              "      <td>2.59</td>\n",
              "      <td>0</td>\n",
              "      <td>22</td>\n",
              "      <td>158</td>\n",
              "      <td>1</td>\n",
              "      <td>1</td>\n",
              "    </tr>\n",
              "  </tbody>\n",
              "</table>\n",
              "<p>5329730 rows × 13 columns</p>\n",
              "</div>"
            ],
            "text/plain": [
              "                   Timestamp  ...  Network transmitted throughput [KB/s]\n",
              "0        04.01.2016 00:00:00  ...                                    670\n",
              "1        04.01.2016 00:05:00  ...                                    673\n",
              "2        04.01.2016 00:10:00  ...                                    666\n",
              "3        04.01.2016 00:15:00  ...                                    672\n",
              "4        04.01.2016 00:20:00  ...                                   1300\n",
              "...                      ...  ...                                    ...\n",
              "5329725  08.02.2016 23:35:00  ...                                      3\n",
              "5329726  08.02.2016 23:40:00  ...                                      1\n",
              "5329727  08.02.2016 23:45:00  ...                                      1\n",
              "5329728  08.02.2016 23:50:00  ...                                      3\n",
              "5329729  08.02.2016 23:55:00  ...                                      1\n",
              "\n",
              "[5329730 rows x 13 columns]"
            ]
          },
          "metadata": {
            "tags": []
          },
          "execution_count": 9
        }
      ]
    },
    {
      "cell_type": "code",
      "metadata": {
        "id": "AhASajVkoXEx",
        "outputId": "0f03977b-994b-421f-d4e7-144cbf6008b9",
        "colab": {
          "base_uri": "https://localhost:8080/",
          "height": 136
        }
      },
      "source": [
        "dataframe.columns"
      ],
      "execution_count": null,
      "outputs": [
        {
          "output_type": "execute_result",
          "data": {
            "text/plain": [
              "Index(['Timestamp', 'CPU cores', 'CPU capacity provisioned [MHZ]',\n",
              "       'CPU usage [MHZ]', 'CPU usage [%]', 'Memory capacity provisioned [KB]',\n",
              "       'Memory usage [KB]', 'Memory usage [%]', 'Disk read throughput [KB/s]',\n",
              "       'Disk write throughput [KB/s]', 'Disk size [GB]',\n",
              "       'Network received throughput [KB/s]',\n",
              "       'Network transmitted throughput [KB/s]'],\n",
              "      dtype='object')"
            ]
          },
          "metadata": {
            "tags": []
          },
          "execution_count": 10
        }
      ]
    },
    {
      "cell_type": "code",
      "metadata": {
        "id": "cJdlPw8Bn_8g"
      },
      "source": [
        "machine_df = dataframe[['CPU usage [%]','Memory usage [%]']]"
      ],
      "execution_count": null,
      "outputs": []
    },
    {
      "cell_type": "code",
      "metadata": {
        "id": "hZ5O_b85ROd_"
      },
      "source": [
        "machine_data_std = StandardScaler().fit_transform(machine_df)"
      ],
      "execution_count": null,
      "outputs": []
    },
    {
      "cell_type": "code",
      "metadata": {
        "id": "Rxb-5UlITAL7",
        "outputId": "c2b28611-943c-4311-dd5e-71cf0e5ec060",
        "colab": {
          "base_uri": "https://localhost:8080/",
          "height": 34
        }
      },
      "source": [
        "machine_data_std.shape"
      ],
      "execution_count": null,
      "outputs": [
        {
          "output_type": "execute_result",
          "data": {
            "text/plain": [
              "(5329730, 2)"
            ]
          },
          "metadata": {
            "tags": []
          },
          "execution_count": 13
        }
      ]
    },
    {
      "cell_type": "markdown",
      "metadata": {
        "id": "3RKVhrF1sp5o"
      },
      "source": [
        "# Elbo method for K means Algorithm"
      ]
    },
    {
      "cell_type": "code",
      "metadata": {
        "id": "SYLDsiHYpK-T",
        "outputId": "276cc413-8b58-4648-d2ac-2d8f7ad70241",
        "colab": {
          "base_uri": "https://localhost:8080/",
          "height": 290
        }
      },
      "source": [
        "ks = range(1, 10, 2)\n",
        "inertias = []\n",
        "for k in ks:\n",
        "    \n",
        "    model = KMeans(n_clusters=k)\n",
        "    model.fit(machine_data_std)\n",
        "    inertias.append(model.inertia_)\n",
        "plt.plot(ks, inertias, '-o', color='black')\n",
        "plt.xlabel('number of clusters, k')\n",
        "plt.ylabel('inertia')\n",
        "plt.xticks(ks)\n",
        "plt.show()    "
      ],
      "execution_count": null,
      "outputs": [
        {
          "output_type": "display_data",
          "data": {
            "image/png": "[encoded data removed]",
            "text/plain": [
              "<Figure size 432x288 with 1 Axes>"
            ]
          },
          "metadata": {
            "tags": [],
            "needs_background": "light"
          }
        }
      ]
    },
    {
      "cell_type": "markdown",
      "metadata": {
        "id": "TD5trhR6s--H"
      },
      "source": [
        "# K means Clustering"
      ]
    },
    {
      "cell_type": "code",
      "metadata": {
        "id": "Ib87RLahpYTv",
        "outputId": "b61f15af-e5eb-4e60-eaf1-6ae9fe528ab1",
        "colab": {
          "base_uri": "https://localhost:8080/",
          "height": 265
        }
      },
      "source": [
        "model = KMeans(n_clusters=3)\n",
        "model.fit(machine_data_std)\n",
        "yhat = model.predict(machine_data_std)\n",
        "clusters = unique(yhat)\n",
        "for cluster in clusters:\n",
        "\trow_ix = where(yhat == cluster)\n",
        "\tplt.scatter(machine_data_std[row_ix, 0], machine_data_std[row_ix, 1])\n",
        "plt.show()"
      ],
      "execution_count": null,
      "outputs": [
        {
          "output_type": "display_data",
          "data": {
            "image/png": "[encoded data removed]",
            "text/plain": [
              "<Figure size 432x288 with 1 Axes>"
            ]
          },
          "metadata": {
            "tags": [],
            "needs_background": "light"
          }
        }
      ]
    },
    {
      "cell_type": "markdown",
      "metadata": {
        "id": "oeyco87uty9c"
      },
      "source": [
        "# Some extra stuff"
      ]
    },
    {
      "cell_type": "markdown",
      "metadata": {
        "id": "hJtxUNLp58LK"
      },
      "source": [
        "# PCA"
      ]
    },
    {
      "cell_type": "code",
      "metadata": {
        "id": "ZuK_BUz_M8fB",
        "outputId": "f0b50035-2706-4848-8eb0-4f81c705da0f",
        "colab": {
          "base_uri": "https://localhost:8080/",
          "height": 500
        }
      },
      "source": [
        "pca = PCA(n_components=12)\n",
        "principalComponents = pca.fit_transform(data_std)\n",
        "# Plot the explained variances\n",
        "features = range(pca.n_components_)\n",
        "plt.bar(features, pca.explained_variance_ratio_, color='black')\n",
        "plt.xlabel('PCA features')\n",
        "plt.ylabel('variance %')\n",
        "plt.xticks(features)"
      ],
      "execution_count": null,
      "outputs": [
        {
          "output_type": "execute_result",
          "data": {
            "text/plain": [
              "([<matplotlib.axis.XTick at 0x7fa2cd86ff60>,\n",
              "  <matplotlib.axis.XTick at 0x7fa2cd86ff28>,\n",
              "  <matplotlib.axis.XTick at 0x7fa2cd86fb70>,\n",
              "  <matplotlib.axis.XTick at 0x7fa2cd83dc50>,\n",
              "  <matplotlib.axis.XTick at 0x7fa2cd84f160>,\n",
              "  <matplotlib.axis.XTick at 0x7fa2cd84f5c0>,\n",
              "  <matplotlib.axis.XTick at 0x7fa2cd84fa58>,\n",
              "  <matplotlib.axis.XTick at 0x7fa2cd84fef0>,\n",
              "  <matplotlib.axis.XTick at 0x7fa2cd8553c8>,\n",
              "  <matplotlib.axis.XTick at 0x7fa2cd855860>,\n",
              "  <matplotlib.axis.XTick at 0x7fa2cd84fa20>,\n",
              "  <matplotlib.axis.XTick at 0x7fa2cd83dcf8>],\n",
              " <a list of 12 Text major ticklabel objects>)"
            ]
          },
          "metadata": {
            "tags": []
          },
          "execution_count": 17
        },
        {
          "output_type": "display_data",
          "data": {
            "image/png": "[encoded data removed]",
            "text/plain": [
              "<Figure size 432x288 with 1 Axes>"
            ]
          },
          "metadata": {
            "tags": [],
            "needs_background": "light"
          }
        }
      ]
    },
    {
      "cell_type": "code",
      "metadata": {
        "id": "w01xLNlTSFCs"
      },
      "source": [
        "pca = PCA(0.95)\n",
        "pca_data = pca.fit_transform(data_std)"
      ],
      "execution_count": null,
      "outputs": []
    },
    {
      "cell_type": "code",
      "metadata": {
        "id": "LQl8PUZdSN1T",
        "outputId": "53829c9f-2d63-4e1c-ddb1-c4485521b8ad",
        "colab": {
          "base_uri": "https://localhost:8080/",
          "height": 238
        }
      },
      "source": [
        "pca_data"
      ],
      "execution_count": null,
      "outputs": [
        {
          "output_type": "execute_result",
          "data": {
            "text/plain": [
              "array([[ 3.72198968, -1.77262843, -0.35957449, ..., -1.0628235 ,\n",
              "         0.92797404, -0.08796489],\n",
              "       [ 3.86357081, -1.85471418, -0.3295523 , ..., -0.53692106,\n",
              "         0.9811821 ,  0.08489453],\n",
              "       [ 2.99066174, -1.82647442, -0.18903613, ..., -0.62644795,\n",
              "         0.96311424, -0.09021957],\n",
              "       ...,\n",
              "       [-0.91362787,  0.44341127, -0.05189957, ...,  0.03456177,\n",
              "         0.10593707,  0.0449662 ],\n",
              "       [-0.91362787,  0.44341127, -0.05189957, ...,  0.03456177,\n",
              "         0.10593707,  0.0449662 ],\n",
              "       [-0.92316321,  0.44070268, -0.04820207, ...,  0.04587816,\n",
              "         0.10615293,  0.0469951 ]])"
            ]
          },
          "metadata": {
            "tags": []
          },
          "execution_count": 19
        }
      ]
    },
    {
      "cell_type": "code",
      "metadata": {
        "id": "9jf8u4UXTRqY",
        "outputId": "0aa502ac-cc78-4414-8802-221d097a1de4",
        "colab": {
          "base_uri": "https://localhost:8080/",
          "height": 419
        }
      },
      "source": [
        "PCA_components = pd.DataFrame(pca_data)\n",
        "PCA_components"
      ],
      "execution_count": null,
      "outputs": [
        {
          "output_type": "execute_result",
          "data": {
            "text/html": [
              "<div>\n",
              "<style scoped>\n",
              "    .dataframe tbody tr th:only-of-type {\n",
              "        vertical-align: middle;\n",
              "    }\n",
              "\n",
              "    .dataframe tbody tr th {\n",
              "        vertical-align: top;\n",
              "    }\n",
              "\n",
              "    .dataframe thead th {\n",
              "        text-align: right;\n",
              "    }\n",
              "</style>\n",
              "<table border=\"1\" class=\"dataframe\">\n",
              "  <thead>\n",
              "    <tr style=\"text-align: right;\">\n",
              "      <th></th>\n",
              "      <th>0</th>\n",
              "      <th>1</th>\n",
              "      <th>2</th>\n",
              "      <th>3</th>\n",
              "      <th>4</th>\n",
              "      <th>5</th>\n",
              "      <th>6</th>\n",
              "      <th>7</th>\n",
              "      <th>8</th>\n",
              "      <th>9</th>\n",
              "    </tr>\n",
              "  </thead>\n",
              "  <tbody>\n",
              "    <tr>\n",
              "      <th>0</th>\n",
              "      <td>3.721990</td>\n",
              "      <td>-1.772628</td>\n",
              "      <td>-0.359574</td>\n",
              "      <td>0.235638</td>\n",
              "      <td>0.052377</td>\n",
              "      <td>-0.158633</td>\n",
              "      <td>-0.474475</td>\n",
              "      <td>-1.062823</td>\n",
              "      <td>0.927974</td>\n",
              "      <td>-0.087965</td>\n",
              "    </tr>\n",
              "    <tr>\n",
              "      <th>1</th>\n",
              "      <td>3.863571</td>\n",
              "      <td>-1.854714</td>\n",
              "      <td>-0.329552</td>\n",
              "      <td>0.643979</td>\n",
              "      <td>0.087048</td>\n",
              "      <td>-0.867406</td>\n",
              "      <td>-0.105470</td>\n",
              "      <td>-0.536921</td>\n",
              "      <td>0.981182</td>\n",
              "      <td>0.084895</td>\n",
              "    </tr>\n",
              "    <tr>\n",
              "      <th>2</th>\n",
              "      <td>2.990662</td>\n",
              "      <td>-1.826474</td>\n",
              "      <td>-0.189036</td>\n",
              "      <td>0.276328</td>\n",
              "      <td>0.069051</td>\n",
              "      <td>-0.395149</td>\n",
              "      <td>-0.237388</td>\n",
              "      <td>-0.626448</td>\n",
              "      <td>0.963114</td>\n",
              "      <td>-0.090220</td>\n",
              "    </tr>\n",
              "    <tr>\n",
              "      <th>3</th>\n",
              "      <td>5.367625</td>\n",
              "      <td>-1.834696</td>\n",
              "      <td>-0.914992</td>\n",
              "      <td>0.525878</td>\n",
              "      <td>0.038469</td>\n",
              "      <td>-0.269475</td>\n",
              "      <td>-0.815050</td>\n",
              "      <td>-1.327808</td>\n",
              "      <td>0.895525</td>\n",
              "      <td>-0.118161</td>\n",
              "    </tr>\n",
              "    <tr>\n",
              "      <th>4</th>\n",
              "      <td>5.448826</td>\n",
              "      <td>-1.596708</td>\n",
              "      <td>-0.621620</td>\n",
              "      <td>0.198791</td>\n",
              "      <td>0.021001</td>\n",
              "      <td>0.346382</td>\n",
              "      <td>-0.898397</td>\n",
              "      <td>-2.107935</td>\n",
              "      <td>0.855914</td>\n",
              "      <td>0.039719</td>\n",
              "    </tr>\n",
              "    <tr>\n",
              "      <th>...</th>\n",
              "      <td>...</td>\n",
              "      <td>...</td>\n",
              "      <td>...</td>\n",
              "      <td>...</td>\n",
              "      <td>...</td>\n",
              "      <td>...</td>\n",
              "      <td>...</td>\n",
              "      <td>...</td>\n",
              "      <td>...</td>\n",
              "      <td>...</td>\n",
              "    </tr>\n",
              "    <tr>\n",
              "      <th>5329725</th>\n",
              "      <td>-0.975364</td>\n",
              "      <td>0.428879</td>\n",
              "      <td>-0.029475</td>\n",
              "      <td>0.057844</td>\n",
              "      <td>-0.067010</td>\n",
              "      <td>-0.051135</td>\n",
              "      <td>0.242224</td>\n",
              "      <td>0.086720</td>\n",
              "      <td>0.108555</td>\n",
              "      <td>0.056727</td>\n",
              "    </tr>\n",
              "    <tr>\n",
              "      <th>5329726</th>\n",
              "      <td>-0.948454</td>\n",
              "      <td>0.435247</td>\n",
              "      <td>-0.039205</td>\n",
              "      <td>0.052477</td>\n",
              "      <td>-0.068368</td>\n",
              "      <td>-0.035135</td>\n",
              "      <td>0.226834</td>\n",
              "      <td>0.063687</td>\n",
              "      <td>0.107493</td>\n",
              "      <td>0.051516</td>\n",
              "    </tr>\n",
              "    <tr>\n",
              "      <th>5329727</th>\n",
              "      <td>-0.913628</td>\n",
              "      <td>0.443411</td>\n",
              "      <td>-0.051900</td>\n",
              "      <td>0.045930</td>\n",
              "      <td>-0.070104</td>\n",
              "      <td>-0.015112</td>\n",
              "      <td>0.207204</td>\n",
              "      <td>0.034562</td>\n",
              "      <td>0.105937</td>\n",
              "      <td>0.044966</td>\n",
              "    </tr>\n",
              "    <tr>\n",
              "      <th>5329728</th>\n",
              "      <td>-0.913628</td>\n",
              "      <td>0.443411</td>\n",
              "      <td>-0.051900</td>\n",
              "      <td>0.045930</td>\n",
              "      <td>-0.070104</td>\n",
              "      <td>-0.015112</td>\n",
              "      <td>0.207204</td>\n",
              "      <td>0.034562</td>\n",
              "      <td>0.105937</td>\n",
              "      <td>0.044966</td>\n",
              "    </tr>\n",
              "    <tr>\n",
              "      <th>5329729</th>\n",
              "      <td>-0.923163</td>\n",
              "      <td>0.440703</td>\n",
              "      <td>-0.048202</td>\n",
              "      <td>0.049710</td>\n",
              "      <td>-0.069516</td>\n",
              "      <td>-0.022551</td>\n",
              "      <td>0.214072</td>\n",
              "      <td>0.045878</td>\n",
              "      <td>0.106153</td>\n",
              "      <td>0.046995</td>\n",
              "    </tr>\n",
              "  </tbody>\n",
              "</table>\n",
              "<p>5329730 rows × 10 columns</p>\n",
              "</div>"
            ],
            "text/plain": [
              "                0         1         2  ...         7         8         9\n",
              "0        3.721990 -1.772628 -0.359574  ... -1.062823  0.927974 -0.087965\n",
              "1        3.863571 -1.854714 -0.329552  ... -0.536921  0.981182  0.084895\n",
              "2        2.990662 -1.826474 -0.189036  ... -0.626448  0.963114 -0.090220\n",
              "3        5.367625 -1.834696 -0.914992  ... -1.327808  0.895525 -0.118161\n",
              "4        5.448826 -1.596708 -0.621620  ... -2.107935  0.855914  0.039719\n",
              "...           ...       ...       ...  ...       ...       ...       ...\n",
              "5329725 -0.975364  0.428879 -0.029475  ...  0.086720  0.108555  0.056727\n",
              "5329726 -0.948454  0.435247 -0.039205  ...  0.063687  0.107493  0.051516\n",
              "5329727 -0.913628  0.443411 -0.051900  ...  0.034562  0.105937  0.044966\n",
              "5329728 -0.913628  0.443411 -0.051900  ...  0.034562  0.105937  0.044966\n",
              "5329729 -0.923163  0.440703 -0.048202  ...  0.045878  0.106153  0.046995\n",
              "\n",
              "[5329730 rows x 10 columns]"
            ]
          },
          "metadata": {
            "tags": []
          },
          "execution_count": 20
        }
      ]
    },
    {
      "cell_type": "code",
      "metadata": {
        "id": "KPFDYmuqfovj",
        "outputId": "0ad7ad21-79f3-4aee-a2b6-45d62ad6eae4",
        "colab": {
          "base_uri": "https://localhost:8080/",
          "height": 296
        }
      },
      "source": [
        "plt.scatter(PCA_components[0], PCA_components[1], alpha=.1, color='black')\n",
        "plt.xlabel('PCA 1')\n",
        "plt.ylabel('PCA 2')"
      ],
      "execution_count": null,
      "outputs": [
        {
          "output_type": "execute_result",
          "data": {
            "text/plain": [
              "Text(0, 0.5, 'PCA 2')"
            ]
          },
          "metadata": {
            "tags": []
          },
          "execution_count": 21
        },
        {
          "output_type": "display_data",
          "data": {
            "image/png": "[encoded data removed]",
            "text/plain": [
              "<Figure size 432x288 with 1 Axes>"
            ]
          },
          "metadata": {
            "tags": [],
            "needs_background": "light"
          }
        }
      ]
    },
    {
      "cell_type": "code",
      "metadata": {
        "id": "J-ZW7euqXfrV"
      },
      "source": [
        "# kendall = PCA_components.corr(method = 'kendall')"
      ],
      "execution_count": null,
      "outputs": []
    },
    {
      "cell_type": "markdown",
      "metadata": {
        "id": "8QaLEjB16EHR"
      },
      "source": [
        "# Correlation"
      ]
    },
    {
      "cell_type": "code",
      "metadata": {
        "id": "HMmt14c2bAPg",
        "outputId": "c2ee1c75-bb11-4915-84f3-05db8a44a9ca",
        "colab": {
          "base_uri": "https://localhost:8080/",
          "height": 407
        }
      },
      "source": [
        "plt.figure(figsize=(10, 6))\n",
        "plt.title('Kendall correlations between the 0.901-solutions')\n",
        "sns.heatmap(kendall, annot = True, fmt = \".3f\")"
      ],
      "execution_count": null,
      "outputs": [
        {
          "output_type": "execute_result",
          "data": {
            "text/plain": [
              "<matplotlib.axes._subplots.AxesSubplot at 0x7fa2ca8f1668>"
            ]
          },
          "metadata": {
            "tags": []
          },
          "execution_count": 25
        },
        {
          "output_type": "display_data",
          "data": {
            "image/png": "[encoded data removed]",
            "text/plain": [
              "<Figure size 720x432 with 2 Axes>"
            ]
          },
          "metadata": {
            "tags": [],
            "needs_background": "light"
          }
        }
      ]
    },
    {
      "cell_type": "code",
      "metadata": {
        "id": "YxnJltoecahb",
        "outputId": "eb33e6ed-7fc3-4f02-b034-d40d92f63a03",
        "colab": {
          "base_uri": "https://localhost:8080/",
          "height": 407
        }
      },
      "source": [
        "pearson = PCA_components.corr(method = 'pearson')\n",
        "plt.figure(figsize=(10, 6))\n",
        "plt.title('Pearson correlations between the 0.901-solutions')\n",
        "sns.heatmap(pearson, annot=True, fmt=\".3f\")"
      ],
      "execution_count": null,
      "outputs": [
        {
          "output_type": "execute_result",
          "data": {
            "text/plain": [
              "<matplotlib.axes._subplots.AxesSubplot at 0x7fa2ca8bfb00>"
            ]
          },
          "metadata": {
            "tags": []
          },
          "execution_count": 27
        },
        {
          "output_type": "display_data",
          "data": {
            "image/png": "[encoded data removed]",
            "text/plain": [
              "<Figure size 720x432 with 2 Axes>"
            ]
          },
          "metadata": {
            "tags": [],
            "needs_background": "light"
          }
        }
      ]
    },
    {
      "cell_type": "markdown",
      "metadata": {
        "id": "e7is8JZw6LZG"
      },
      "source": [
        "# Hierarchical clustering"
      ]
    },
    {
      "cell_type": "code",
      "metadata": {
        "id": "vLQe6NbtcuSr",
        "outputId": "56b1855d-974b-4c3e-ad20-a0cc3b04d59b",
        "colab": {
          "base_uri": "https://localhost:8080/",
          "height": 339
        }
      },
      "source": [
        "np_solutions_set = PCA_components.T.values\n",
        "solutions_set_dist = pdist(np_solutions_set)\n",
        "linked = linkage(solutions_set_dist, 'ward')\n",
        "\n",
        "fig = plt.figure(figsize=(8, 5))\n",
        "dendrogram(linked, labels = PCA_components.columns)\n",
        "plt.title('machine clusters')\n",
        "plt.show()"
      ],
      "execution_count": null,
      "outputs": [
        {
          "output_type": "display_data",
          "data": {
            "image/png": "[encoded data removed]",
            "text/plain": [
              "<Figure size 576x360 with 1 Axes>"
            ]
          },
          "metadata": {
            "tags": [],
            "needs_background": "light"
          }
        }
      ]
    },
    {
      "cell_type": "code",
      "metadata": {
        "id": "7jdP_qNPdXh8"
      },
      "source": [
        ""
      ],
      "execution_count": null,
      "outputs": []
    }
  ]
}